{
 "cells": [
  {
   "cell_type": "code",
   "execution_count": 3,
   "metadata": {
    "collapsed": true
   },
   "outputs": [],
   "source": [
    "import os\n",
    "import pysam\n",
    "\n",
    "os.chdir(\"/home/annebusch/Documents/anne02/m1A_Marco/S_cerv_R64/MH17/\")"
   ]
  },
  {
   "cell_type": "code",
   "execution_count": 23,
   "outputs": [
    {
     "data": {
      "text/plain": "'AlignmentFile.fetch(self, contig=None, start=None, stop=None, region=None, tid=None, until_eof=False, multiple_iterators=False, reference=None, end=None)\\nfetch reads aligned in a :term:`region`.\\n\\n        See :meth:`~pysam.HTSFile.parse_region` for more information\\n        on how genomic regions can be specified. :term:`reference` and\\n        `end` are also accepted for backward compatibility as synonyms\\n        for :term:`contig` and `stop`, respectively.\\n\\n        Without a `contig` or `region` all mapped reads in the file\\n        will be fetched. The reads will be returned ordered by reference\\n        sequence, which will not necessarily be the order within the\\n        file. This mode of iteration still requires an index. If there is\\n        no index, use `until_eof=True`.\\n\\n        If only `contig` is set, all reads aligned to `contig`\\n        will be fetched.\\n\\n        A :term:`SAM` file does not allow random access. If `region`\\n        or `contig` are given, an exception is raised.\\n\\n        Parameters\\n        ----------\\n\\n        until_eof : bool\\n\\n           If `until_eof` is True, all reads from the current file\\n           position will be returned in order as they are within the\\n           file. Using this option will also fetch unmapped reads.\\n\\n        multiple_iterators : bool\\n\\n           If `multiple_iterators` is True, multiple\\n           iterators on the same file can be used at the same time. The\\n           iterator returned will receive its own copy of a filehandle to\\n           the file effectively re-opening the file. Re-opening a file\\n           creates some overhead, so beware.\\n\\n        Returns\\n        -------\\n\\n\\t\\tAn iterator over a collection of reads. : IteratorRow\\n\\n        Raises\\n        ------\\n\\n        ValueError\\n            if the genomic coordinates are out of range or invalid or the\\n            file does not permit random access to genomic coordinates.\\n\\n        '"
     },
     "execution_count": 23,
     "metadata": {},
     "output_type": "execute_result"
    }
   ],
   "source": [
    "# sort sam file first or use unsorted?\n",
    "pysam.AlignmentFile.fetch.__doc__"
   ],
   "metadata": {
    "collapsed": false,
    "pycharm": {
     "name": "#%%\n"
    }
   }
  },
  {
   "cell_type": "code",
   "execution_count": 24,
   "outputs": [
    {
     "name": "stdout",
     "output_type": "stream",
     "text": [
      "M01332:26:000000000-ANHJM:1:1101:18254:1633\t4\t*\t0\t0\tNone\t*\t0\t0\tTAAACAACCGGCTAAGTTAGGCCCAGATCGGAAAGCACACGTCTGAACTCCAGTCACTCAGGCGTATCTCGTATT\tarray('B', [32, 24, 12, 12, 32, 24, 27, 36, 37, 22, 10, 34, 37, 22, 23, 27, 36, 37, 11, 11, 11, 34, 36, 34, 11, 12, 11, 34, 34, 11, 11, 11, 11, 10, 11, 26, 11, 34, 11, 34, 10, 26, 34, 34, 11, 11, 11, 26, 34, 26, 34, 11, 11, 27, 34, 11, 26, 34, 11, 11, 11, 11, 24, 10, 11, 10, 23, 21, 34, 34, 11, 25, 11, 34, 11])\t[('YT', 'UU')]\n"
     ]
    }
   ],
   "source": [
    "# reads contents from an alignment file\n",
    "with pysam.AlignmentFile(\"MH1701_R1_GCA_verysensitivelocal.sam\", \"r\") as samfile:\n",
    "    # header = samfile.header.to_dict()\n",
    "    # print(header)\n",
    "    iterator = samfile.fetch()\n",
    "    for row in iterator:\n",
    "        print(row)\n",
    "        break\n"
   ],
   "metadata": {
    "collapsed": false,
    "pycharm": {
     "name": "#%%\n"
    }
   }
  },
  {
   "cell_type": "code",
   "execution_count": null,
   "outputs": [],
   "source": [],
   "metadata": {
    "collapsed": false,
    "pycharm": {
     "name": "#%%\n"
    }
   }
  }
 ],
 "metadata": {
  "kernelspec": {
   "display_name": "Python 3",
   "language": "python",
   "name": "python3"
  },
  "language_info": {
   "codemirror_mode": {
    "name": "ipython",
    "version": 2
   },
   "file_extension": ".py",
   "mimetype": "text/x-python",
   "name": "python",
   "nbconvert_exporter": "python",
   "pygments_lexer": "ipython2",
   "version": "2.7.6"
  }
 },
 "nbformat": 4,
 "nbformat_minor": 0
}