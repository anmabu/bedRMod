{
 "cells": [
  {
   "cell_type": "code",
   "execution_count": 1,
   "id": "0804053d",
   "metadata": {},
   "outputs": [],
   "source": [
    "import os\n",
    "import pandas as pd\n",
    "import yaml\n",
    "\n",
    "from tsv2bedRMod import df2bedRMod\n",
    "\n",
    "from helper import write_header\n",
    "from helper import get_modification_color\n",
    "from helper import parse_excel\n"
   ]
  },
  {
   "cell_type": "markdown",
   "id": "fb0e373a",
   "metadata": {},
   "source": [
    "## columns that I need for data\n",
    "    chrom       chromosome\n",
    "    chromStart  position\n",
    "    chromEnd    \n",
    "    name        m5C\n",
    "    score       ?\n",
    "    strand      strand\n",
    "    thickStart   \n",
    "    thickEnd    \n",
    "    itemRGB     figure it out\n",
    "    coverage    unconverted + converted\n",
    "    frequency   round(100 * (converted / (unconverted + converted)))"
   ]
  },
  {
   "cell_type": "code",
   "execution_count": 2,
   "id": "a784b2b4",
   "metadata": {},
   "outputs": [
    {
     "name": "stdout",
     "output_type": "stream",
     "text": [
      "GSE225614_HEK293T-WT_sites.tsv\n",
      "output file: /home/annebusch/anne02/euf-data/ubs-seq/ubs-seq_bedrmod/GSE225614_HEK293T-WT_sites.bedrmod\n",
      "/home/annebusch/anne02/euf-data/ubs-seq/ubs-seq_bedrmod/GSE225614_HEK293T-WT_sites.bedrmod\n",
      "GSE225614_HeLa-shNSUN2_sites.tsv\n",
      "output file: /home/annebusch/anne02/euf-data/ubs-seq/ubs-seq_bedrmod/GSE225614_HeLa-shNSUN2_sites.bedrmod\n",
      "/home/annebusch/anne02/euf-data/ubs-seq/ubs-seq_bedrmod/GSE225614_HeLa-shNSUN2_sites.bedrmod\n",
      "GSE225614_HeLa-WT_sites.tsv\n",
      "output file: /home/annebusch/anne02/euf-data/ubs-seq/ubs-seq_bedrmod/GSE225614_HeLa-WT_sites.bedrmod\n",
      "/home/annebusch/anne02/euf-data/ubs-seq/ubs-seq_bedrmod/GSE225614_HeLa-WT_sites.bedrmod\n",
      "GSE225614_HeLa-shControl_sites.tsv\n",
      "output file: /home/annebusch/anne02/euf-data/ubs-seq/ubs-seq_bedrmod/GSE225614_HeLa-shControl_sites.bedrmod\n",
      "/home/annebusch/anne02/euf-data/ubs-seq/ubs-seq_bedrmod/GSE225614_HeLa-shControl_sites.bedrmod\n",
      "GSE225614_HeLa-siControl_sites.tsv\n",
      "output file: /home/annebusch/anne02/euf-data/ubs-seq/ubs-seq_bedrmod/GSE225614_HeLa-siControl_sites.bedrmod\n",
      "/home/annebusch/anne02/euf-data/ubs-seq/ubs-seq_bedrmod/GSE225614_HeLa-siControl_sites.bedrmod\n",
      "GSE225614_HeLa-siNSUN6_sites.tsv\n",
      "output file: /home/annebusch/anne02/euf-data/ubs-seq/ubs-seq_bedrmod/GSE225614_HeLa-siNSUN6_sites.bedrmod\n",
      "/home/annebusch/anne02/euf-data/ubs-seq/ubs-seq_bedrmod/GSE225614_HeLa-siNSUN6_sites.bedrmod\n"
     ]
    }
   ],
   "source": [
    "def convert_ubs_m5C():\n",
    "    \"\"\"\n",
    "    Function to convert individual df from ubs into bedrmod\n",
    "    \"\"\"\n",
    "    def frequency_func(params):\n",
    "        converted = params[1]\n",
    "        if sum(params) > 0:\n",
    "            return round(100 * (converted / sum(params)))\n",
    "        else: \n",
    "            return 0\n",
    "        \n",
    "    def coverage_func(params):\n",
    "        # print(sum(params))\n",
    "        return sum(params)\n",
    "    for file in os.listdir(\"/home/annebusch/anne02/euf-data/ubs-seq/\"):\n",
    "        if file.endswith(\".tsv\"):\n",
    "            print(file)\n",
    "            chrom_column = \"chromosome\"\n",
    "            position = \"position\"\n",
    "            if not \"WT\" in file:\n",
    "                chrom_column = \"ref\"\n",
    "                position = \"pos\"\n",
    "            df = pd.read_csv(\"/home/annebusch/anne02/euf-data/ubs-seq/\" + file, delimiter=\"\\t\")\n",
    "            df = df[df[chrom_column] != \".\"]\n",
    "            df = df.reset_index(drop=True)\n",
    "            conf = \"/home/annebusch/anne02/euf-data/ubs-seq/human_m5C.yaml\"\n",
    "            outfile = \"/home/annebusch/anne02/euf-data/ubs-seq/ubs-seq_bedrmod/\" + file\n",
    "            df2bedRMod(df, conf, outfile, \n",
    "                        ref_seg=chrom_column, start=position, strand=\"strand\",\n",
    "                        modi=\"m5C\",\n",
    "                        coverage=[\"unconverted\", \"converted\"],\n",
    "                        coverage_function=coverage_func, \n",
    "                        score=1,\n",
    "                        frequency=[\"unconverted\", \"converted\"],\n",
    "                        frequency_function=frequency_func)\n",
    "\n",
    "convert_ubs_m5C()"
   ]
  },
  {
   "cell_type": "code",
   "execution_count": null,
   "id": "ad029308",
   "metadata": {},
   "outputs": [],
   "source": []
  },
  {
   "cell_type": "code",
   "execution_count": null,
   "id": "9c09b76a",
   "metadata": {},
   "outputs": [],
   "source": []
  }
 ],
 "metadata": {
  "kernelspec": {
   "display_name": "Python 3 (ipykernel)",
   "language": "python",
   "name": "python3"
  },
  "language_info": {
   "codemirror_mode": {
    "name": "ipython",
    "version": 3
   },
   "file_extension": ".py",
   "mimetype": "text/x-python",
   "name": "python",
   "nbconvert_exporter": "python",
   "pygments_lexer": "ipython3",
   "version": "3.10.9"
  }
 },
 "nbformat": 4,
 "nbformat_minor": 5
}
