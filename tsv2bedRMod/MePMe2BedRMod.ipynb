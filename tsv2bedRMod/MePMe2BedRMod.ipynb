{
 "cells": [
  {
   "cell_type": "code",
   "execution_count": 1,
   "id": "af1a00ed",
   "metadata": {},
   "outputs": [],
   "source": [
    "import os\n",
    "import pandas as pd\n",
    "import yaml\n",
    "\n",
    "# from tsv2bedRMod import bid_mouse2bedRMod, bid_human2bedRMod, etam2bedRMod, csv2bedRMod\n",
    "from tsv2bedRMod import csv2bedRMod\n",
    "\n",
    "from helper import write_header\n",
    "from helper import get_modification_color\n",
    "from helper import parse_excel\n"
   ]
  },
  {
   "cell_type": "code",
   "execution_count": null,
   "id": "bb0c6ac6",
   "metadata": {},
   "outputs": [],
   "source": [
    "jacusa_file = \"/home/annebusch/anne02/euf-data/mepme/Supp2.xlsx\"\n",
    "file = pd.read_excel(jacusa_file, header=1)\n",
    "file.columns"
   ]
  },
  {
   "cell_type": "markdown",
   "id": "94384d0b",
   "metadata": {},
   "source": [
    "## columns that I need for data\n",
    "    chrom       'arrest Chr'\n",
    "    chromStart  'modification'\n",
    "    chromEnd    \n",
    "    name        m6A or m5C - manually for each file\n",
    "    score       convert \"Score\" column  -> reps 1 and 2\n",
    "    strand      'Strand'\n",
    "    thickStart   \n",
    "    thickEnd    \n",
    "    itemRGB     figure it out\n",
    "    coverage    'coverage sample'  -> reps 1 and 2\n",
    "    frequency   'delta arrest rate'  -> reps 1 and 2\n",
    "    \n",
    "## columns that I need for header\n",
    "    general: rep1 or 2\n",
    "    organism human\n",
    "    modification_type RNA\n",
    "    assembly GRCh38\n",
    "    annotation_source None\n",
    "    annotation_version None\n",
    "    sequencing_platform Illumina NovaSeq 6000\n",
    "    basecalling None\n",
    "    bioinformatics_workflow https://github.com/dieterich-lab/JACUSA2\n",
    "    experiment https://doi.org/10.1038/s41467-023-42832-z\n",
    "    external_source SRA:PRJNA811414\n",
    "    methods MePMe-seq\n",
    "    references pubmed_id:37935679\n",
    "    conversion_information the original \"Score\" column is normalized by dividing each value by the maximum value"
   ]
  },
  {
   "cell_type": "code",
   "execution_count": null,
   "id": "31a1cdea",
   "metadata": {},
   "outputs": [],
   "source": []
  },
  {
   "cell_type": "code",
   "execution_count": null,
   "id": "0c832586",
   "metadata": {},
   "outputs": [],
   "source": [
    "jacusa_file = \"/home/annebusch/anne02/euf-data/mepme/Supp2.xlsx\"\n",
    "file = pd.read_excel(jacusa_file, header=1)\n",
    "\n",
    "# save the first 5 columns, as they are identical for rep1 and rep2\n",
    "keep_cols = file.iloc[:, :5]\n",
    "\n",
    "# split rep1 and rep2 into own dataframes\n",
    "rep1_cols = file.iloc[:, 20:32]\n",
    "rep2_cols = file.iloc[:, 32:44]\n",
    "\n",
    "# concatenate the chromosome, position etc. columns with the values\n",
    "rep1_df = pd.concat([keep_cols, rep1_cols], axis=1)\n",
    "rep2_df = pd.concat([keep_cols, rep2_cols], axis=1)\n",
    "print(len(rep2_df))\n",
    "\n",
    "# rename columns, so they can be accessed by name\n",
    "rep2_df.columns = rep1_df.columns\n",
    "\n",
    "# drop rows, where no score is set to avoid having sparse data\n",
    "rep1_df = rep1_df.dropna(subset=\"Score\")\n",
    "rep2_df = rep2_df.dropna(subset=\"Score\")\n",
    "\n",
    "# save maximum score of each df in an extra column, so the bedrmod score can be calculated, later\n",
    "max1_score_col = [max(rep1_df[\"Score\"]) for i in range(len(rep1_df))]\n",
    "max2_score_col = [max(rep2_df[\"Score\"]) for i in range(len(rep2_df))]\n",
    "rep1_df[\"max_score\"] = max1_score_col\n",
    "rep2_df[\"max_score\"] = max2_score_col\n",
    "\n",
    "# save rep1 and rep2 independently in a csv\n",
    "rep1_df.to_csv(\"/home/annebusch/anne02/euf-data/mepme/supp2_mepme_m6a_rep1.csv\", index=False)\n",
    "rep2_df.to_csv(\"/home/annebusch/anne02/euf-data/mepme/supp2_mepme_m6a_rep2.csv\", index=False)"
   ]
  },
  {
   "cell_type": "code",
   "execution_count": 2,
   "id": "d3d40af8",
   "metadata": {},
   "outputs": [],
   "source": [
    "def convert_mepme():\n",
    "    \"\"\"\n",
    "    Function to convert individual csv files from mepme into bedrmod\n",
    "    \"\"\"\n",
    "    def score_func(score_value):\n",
    "        score, max_score = score_value\n",
    "        return round((score / max_score) * 1000) \n",
    "\n",
    "    def frequency_func(ratio):\n",
    "        return round(ratio)\n",
    "    \n",
    "    def start_func(pos):\n",
    "        return pos - 1\n",
    "\n",
    "    dirpath = \"/home/annebusch/anne02/euf-data/mepme/\"\n",
    "    os.chdir(dirpath)\n",
    "    for file in os.listdir():\n",
    "        if file.endswith(\".csv\"):\n",
    "            if file.startswith(\"supp2\") or file.startswith(\"supp5\"):\n",
    "                modification = \"m6A\"\n",
    "            if file.startswith(\"supp6\"):\n",
    "                modification = \"m5C\"\n",
    "            conf = \"hela.yaml\"\n",
    "            csv2bedRMod(file, conf,\n",
    "                        delimiter=\",\",\n",
    "                        ref_seg=\"arrest Chr\", start=\"modification\",\n",
    "                        start_function=start_func,\n",
    "                        strand=\"Strand\",\n",
    "                        modi=modification,\n",
    "                        coverage=\"coverage sample\",\n",
    "                        score=[\"Score\", \"max_score\"],\n",
    "                        score_function=score_func,\n",
    "                        frequency=\"delta arrest rate\",\n",
    "                        frequency_function=frequency_func)\n",
    "    \n",
    "\n",
    "    "
   ]
  },
  {
   "cell_type": "code",
   "execution_count": 3,
   "id": "6af7d48d",
   "metadata": {},
   "outputs": [
    {
     "name": "stdout",
     "output_type": "stream",
     "text": [
      "output file: supp6_mepme_m5c_rep2.bedrmod\n",
      "output file: supp5_mettl16_m6a_rep2.bedrmod\n",
      "output file: supp2_mepme_m6a_rep1.bedrmod\n",
      "output file: supp5_mettl16_m6a_rep1.bedrmod\n",
      "output file: supp2_mepme_m6a_rep2.bedrmod\n",
      "output file: supp5_mettl16_m6a_rep4.bedrmod\n",
      "output file: supp6_mepme_m5c_rep1.bedrmod\n",
      "output file: supp5_mettl16_m6a_rep3.bedrmod\n"
     ]
    }
   ],
   "source": [
    "convert_mepme()"
   ]
  },
  {
   "cell_type": "code",
   "execution_count": null,
   "id": "a0549270",
   "metadata": {},
   "outputs": [],
   "source": []
  }
 ],
 "metadata": {
  "kernelspec": {
   "display_name": "Python 3 (ipykernel)",
   "language": "python",
   "name": "python3"
  },
  "language_info": {
   "codemirror_mode": {
    "name": "ipython",
    "version": 3
   },
   "file_extension": ".py",
   "mimetype": "text/x-python",
   "name": "python",
   "nbconvert_exporter": "python",
   "pygments_lexer": "ipython3",
   "version": "3.10.9"
  }
 },
 "nbformat": 4,
 "nbformat_minor": 5
}
